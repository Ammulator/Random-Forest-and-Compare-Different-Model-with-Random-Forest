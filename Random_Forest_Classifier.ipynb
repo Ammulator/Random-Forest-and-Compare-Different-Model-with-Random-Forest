{
  "nbformat": 4,
  "nbformat_minor": 0,
  "metadata": {
    "colab": {
      "name": "Random Forest Classifier.ipynb",
      "provenance": [],
      "authorship_tag": "ABX9TyOcEFYUiix/hTpRe1QMiI10",
      "include_colab_link": true
    },
    "kernelspec": {
      "name": "python3",
      "display_name": "Python 3"
    }
  },
  "cells": [
    {
      "cell_type": "markdown",
      "metadata": {
        "id": "view-in-github",
        "colab_type": "text"
      },
      "source": [
        "<a href=\"https://colab.research.google.com/github/Ammulator/Random-Forest-and-Compare-Different-Model-with-Random-Forest/blob/main/Random_Forest_Classifier.ipynb\" target=\"_parent\"><img src=\"https://colab.research.google.com/assets/colab-badge.svg\" alt=\"Open In Colab\"/></a>"
      ]
    },
    {
      "cell_type": "markdown",
      "metadata": {
        "id": "ZRjcSkdmgHfL"
      },
      "source": [
        "***1. Importing the libraries ***"
      ]
    },
    {
      "cell_type": "code",
      "metadata": {
        "id": "59tbQk27fdrO"
      },
      "source": [
        "import pandas as pd\r\n",
        "from sklearn.linear_model import LogisticRegression\r\n",
        "from sklearn.tree import DecisionTreeClassifier\r\n",
        "from sklearn.ensemble import RandomForestClassifier\r\n",
        "from sklearn.datasets import load_breast_cancer\r\n",
        "from sklearn.model_selection import train_test_split\r\n",
        "from sklearn.linear_model import LinearRegression"
      ],
      "execution_count": 12,
      "outputs": []
    },
    {
      "cell_type": "markdown",
      "metadata": {
        "id": "JicBV9IHhfJb"
      },
      "source": [
        "**2. Loading the DataSet and Selecting Features**"
      ]
    },
    {
      "cell_type": "code",
      "metadata": {
        "id": "d2h2GFmOheSH"
      },
      "source": [
        "cancer_data=load_breast_cancer()\r\n",
        "df= pd.DataFrame(cancer_data['data'], columns=cancer_data['feature_names'])\r\n",
        "df['target']=cancer_data['target']\r\n",
        "X=df[cancer_data.feature_names].values\r\n",
        "y=df['target'].values"
      ],
      "execution_count": 7,
      "outputs": []
    },
    {
      "cell_type": "markdown",
      "metadata": {
        "id": "bBqDOKt1jWxD"
      },
      "source": [
        "***3. Spliting the data for train and test***"
      ]
    },
    {
      "cell_type": "code",
      "metadata": {
        "id": "20vdwqkdjWHW"
      },
      "source": [
        "X_train,X_test,y_train,y_test=train_test_split(X,y,random_state=101)"
      ],
      "execution_count": 9,
      "outputs": []
    },
    {
      "cell_type": "markdown",
      "metadata": {
        "id": "HpiL-rJdj-5f"
      },
      "source": [
        "***4. Compare Model of Random Forest, Decision Tree and Logistic Regression***"
      ]
    },
    {
      "cell_type": "code",
      "metadata": {
        "colab": {
          "base_uri": "https://localhost:8080/"
        },
        "id": "LUp0sjwJj-JH",
        "outputId": "b31f1df5-508e-45d1-b5f0-cc839f7c167f"
      },
      "source": [
        "#For Random Forest\r\n",
        "rf=RandomForestClassifier()\r\n",
        "rf.fit(X_train,y_train)\r\n",
        "print(\"Accuracy of Random Forest Classifier: \",rf.score(X_test,y_test))\r\n",
        "\r\n",
        "#For Decision Tree\r\n",
        "dt=DecisionTreeClassifier()\r\n",
        "dt.fit(X_train,y_train)\r\n",
        "print(\"Accuracy of Decision Tree Classifier: \",dt.score(X_test,y_test))\r\n",
        "\r\n",
        "#For Logistic Regression\r\n",
        "lg=LogisticRegression()\r\n",
        "lg.fit(X_train,y_train)\r\n",
        "print(\"Accuracy of Logistic Regression: \",lg.score(X_test,y_test))\r\n",
        "\r\n",
        "#For linear Regression\r\n",
        "lr=LinearRegression()\r\n",
        "lr.fit(X_train,y_train)\r\n",
        "print(\"Accuracy of Linear Regression: \",lr.score(X_test,y_test))"
      ],
      "execution_count": 13,
      "outputs": [
        {
          "output_type": "stream",
          "text": [
            "Accuracy of Random Forest Classifier:  0.972027972027972\n",
            "Accuracy of Decision Tree Classifier:  0.9020979020979021\n",
            "Accuracy of Logistic Regression:  0.9370629370629371\n",
            "Accuracy of Linear Regression:  0.7193169685148906\n"
          ],
          "name": "stdout"
        },
        {
          "output_type": "stream",
          "text": [
            "/usr/local/lib/python3.6/dist-packages/sklearn/linear_model/_logistic.py:940: ConvergenceWarning: lbfgs failed to converge (status=1):\n",
            "STOP: TOTAL NO. of ITERATIONS REACHED LIMIT.\n",
            "\n",
            "Increase the number of iterations (max_iter) or scale the data as shown in:\n",
            "    https://scikit-learn.org/stable/modules/preprocessing.html\n",
            "Please also refer to the documentation for alternative solver options:\n",
            "    https://scikit-learn.org/stable/modules/linear_model.html#logistic-regression\n",
            "  extra_warning_msg=_LOGISTIC_SOLVER_CONVERGENCE_MSG)\n"
          ],
          "name": "stderr"
        }
      ]
    }
  ]
}